{
 "cells": [
  {
   "cell_type": "markdown",
   "metadata": {},
   "source": [
    "## Binary images (129x129 pixels) of the microstructures sliced from 3-D morphologies which obtained by solving the Cahn-Hilliard equation\n",
    "* We generate the CH dataset of 3-D microstructure using a thermodynamic consistent binary phase separation simulation. This is done by solving the well known Cahn-Hilliard equation [1]. Originally proposed to study phase separation in alloys, this equation can account for such phenomena in polymers, ceramics, and other material systems.\n",
    "* Data from simulations with 8388608 (256x256x128) elements-8 nodes each, which is saved in a .h5 file [2].\n",
    "* The dataset is 128 simulations (128 h5 files) which, after slicing and patching, will be 1011712 images with 129x129 binary pixels in resoluton. Please note that number of images in the dataset is a variable based on the number of slices in X or Y directions, and steps between time steps.  \n",
    "\n",
    "[1] John W Cahn. \"On spinodal decomposition\". In: Acta metallurgica 9.9 (1961), pp. 795-801.\n",
    "[2] For reading more about h5 files, see:   https://www.pythonforthelab.com/blog/how-to-use-hdf5-files-in-python/"
   ]
  },
  {
   "cell_type": "code",
   "execution_count": 5,
   "metadata": {
    "pycharm": {
     "is_executing": false
    }
   },
   "outputs": [],
   "source": [
    "%reset"
   ]
  },
  {
   "cell_type": "markdown",
   "metadata": {},
   "source": [
    "### Importing required packages"
   ]
  },
  {
   "cell_type": "code",
   "execution_count": 6,
   "metadata": {
    "pycharm": {
     "is_executing": false
    }
   },
   "outputs": [],
   "source": [
    "import os\n",
    "from tqdm import tqdm\n",
    "import h5py  \n",
    "import numpy as np\n",
    "import pandas as pd\n",
    "import matplotlib.pyplot as plt\n",
    "%matplotlib inline"
   ]
  },
  {
   "cell_type": "markdown",
   "metadata": {},
   "source": [
    "### Slicing core function \n",
    "- This function takes a pandas.core.frame.DataFrame type dataframe (data_frame0) and return two pandas.core.series.Series type series. \n",
    "- data_frame0 contains node coordinates and phi values (approximately for each morphology or timestep, data_frame0.shape = (8520321, 4))"
   ]
  },
  {
   "cell_type": "code",
   "execution_count": 7,
   "metadata": {
    "pycharm": {
     "is_executing": false
    }
   },
   "outputs": [],
   "source": [
    "def slicing(data_frame0):\n",
    "    # grouping the data frame (data_frame0) by X values\n",
    "    data_frame_sec_X=data_frame0.groupby('X').apply(pd.DataFrame.to_numpy) \n",
    "    \n",
    "    # grouping the data frame (data_frame0) by Y values\n",
    "    data_frame_sec_Y=data_frame0.groupby('Y').apply(pd.DataFrame.to_numpy)\n",
    "    \n",
    "    return data_frame_sec_X, data_frame_sec_Y"
   ]
  },
  {
   "cell_type": "markdown",
   "metadata": {},
   "source": [
    "### Setting directory, and reading names of the files:\n",
    "Note: to avoid any unpredicted errors, please make two seprate directories for reading and writing"
   ]
  },
  {
   "cell_type": "code",
   "execution_count": 12,
   "metadata": {
    "pycharm": {
     "is_executing": false
    }
   },
   "outputs": [
    {
     "traceback": [
      "\u001b[0;31m---------------------------------------------------------------------------\u001b[0m",
      "\u001b[0;31mFileNotFoundError\u001b[0m                         Traceback (most recent call last)",
      "\u001b[0;32m<ipython-input-12-185587f5516b>\u001b[0m in \u001b[0;36m<module>\u001b[0;34m\u001b[0m\n\u001b[1;32m      2\u001b[0m \u001b[0mwriting_directory\u001b[0m \u001b[0;34m=\u001b[0m \u001b[0;34m'./writing/'\u001b[0m\u001b[0;34m\u001b[0m\u001b[0;34m\u001b[0m\u001b[0m\n\u001b[1;32m      3\u001b[0m \u001b[0;34m\u001b[0m\u001b[0m\n\u001b[0;32m----> 4\u001b[0;31m \u001b[0mname_files\u001b[0m \u001b[0;34m=\u001b[0m \u001b[0mos\u001b[0m\u001b[0;34m.\u001b[0m\u001b[0mlistdir\u001b[0m\u001b[0;34m(\u001b[0m\u001b[0mpath\u001b[0m\u001b[0;34m=\u001b[0m\u001b[0mreading_directory\u001b[0m\u001b[0;34m)\u001b[0m\u001b[0;34m\u001b[0m\u001b[0;34m\u001b[0m\u001b[0m\n\u001b[0m\u001b[1;32m      5\u001b[0m \u001b[0;34m\u001b[0m\u001b[0m\n",
      "\u001b[0;31mFileNotFoundError\u001b[0m: [Errno 2] No such file or directory: './all_data/'"
     ],
     "ename": "FileNotFoundError",
     "evalue": "[Errno 2] No such file or directory: './all_data/'",
     "output_type": "error"
    }
   ],
   "source": [
    "reading_directory = './all_data/'\n",
    "writing_directory = './writing/'\n",
    "\n",
    "name_files = os.listdir(path=reading_directory)"
   ]
  },
  {
   "cell_type": "markdown",
   "metadata": {},
   "source": [
    "### Geometry parameters:\n",
    "* width : number of nodes along width (X, Y-dirs)\n",
    "* height : number of nodes along height (Z-dir)\n",
    "* numb_sections : number of the slices you need in both X-dir and Y-dir (you can change it if you want to change the \n",
    "                distance between the slices, e.g. we have one slice every 5 steps)\n",
    "* sec_location: by knowing that the dimension of the sample is (Ux, Uy, Uz)=(4, 4, 2), and because we slice on X-dir \n",
    "                and Y-dir, we define sec_location which shows the location of the slices in X-dir and Y-dir \n",
    "* patch_1, patch_2 : since we need to make two 129x129 images (patches) from 257x129 images, we need to define patch_1 \n",
    "                and patch_2 in which we can find the indices we need to this end. "
   ]
  },
  {
   "cell_type": "code",
   "execution_count": 9,
   "metadata": {
    "pycharm": {
     "is_executing": false
    }
   },
   "outputs": [],
   "source": [
    "width = 257 \n",
    "height = 129\n",
    "\n",
    "sec_location = np.linspace(0.0, 4.0, width) \n",
    "\n",
    "num_sections = len(sec_location[np.arange(0, width, 5)])\n",
    "\n",
    "patch_1 = np.array_split(np.arange(height * width).reshape(height, width), 2, axis=1)[0].flatten()\n",
    "patch_2 = patch_1 + height - 1"
   ]
  },
  {
   "cell_type": "markdown",
   "metadata": {},
   "source": [
    "### Reading, slicing, and saving the dataset \n",
    "* time_interval : this is a numpy array used to define the time interval that we want to extract the information \n",
    "                from the solution which is saved in the dataset. Note that we start from time step number 8 because \n",
    "                solutions at the very beginning of the dataset do not phase separate fully.\n",
    "* data_frame : this is a pandas dataframe which includes (X, Y, Z, phi) features\n",
    "* saving_frames : this is numpy array in which we save phi values of all the slices we create"
   ]
  },
  {
   "cell_type": "code",
   "execution_count": 10,
   "metadata": {
    "pycharm": {
     "is_executing": false
    }
   },
   "outputs": [
    {
     "traceback": [
      "\u001b[0;31m---------------------------------------------------------------------------\u001b[0m",
      "\u001b[0;31mOSError\u001b[0m                                   Traceback (most recent call last)",
      "\u001b[0;32m<ipython-input-10-6c2787f4f937>\u001b[0m in \u001b[0;36m<module>\u001b[0;34m\u001b[0m\n\u001b[1;32m      2\u001b[0m \"\"\" \n\u001b[1;32m      3\u001b[0m \u001b[0;34m\u001b[0m\u001b[0m\n\u001b[0;32m----> 4\u001b[0;31m \u001b[0mwriting_data\u001b[0m \u001b[0;34m=\u001b[0m \u001b[0mh5py\u001b[0m\u001b[0;34m.\u001b[0m\u001b[0mFile\u001b[0m\u001b[0;34m(\u001b[0m\u001b[0mwriting_directory\u001b[0m \u001b[0;34m+\u001b[0m \u001b[0;34m'sliced_dataset.h5'\u001b[0m\u001b[0;34m,\u001b[0m \u001b[0;34m'w'\u001b[0m\u001b[0;34m)\u001b[0m\u001b[0;34m\u001b[0m\u001b[0;34m\u001b[0m\u001b[0m\n\u001b[0m\u001b[1;32m      5\u001b[0m \u001b[0mk\u001b[0m \u001b[0;34m=\u001b[0m \u001b[0;36m1\u001b[0m\u001b[0;34m\u001b[0m\u001b[0;34m\u001b[0m\u001b[0m\n\u001b[1;32m      6\u001b[0m \u001b[0;32mfor\u001b[0m \u001b[0mnames\u001b[0m \u001b[0;32min\u001b[0m \u001b[0mname_files\u001b[0m\u001b[0;34m:\u001b[0m\u001b[0;34m\u001b[0m\u001b[0;34m\u001b[0m\u001b[0m\n",
      "\u001b[0;32m~/PROJECTS/sectioning_Ehsan/venv/lib/python3.6/site-packages/h5py/_hl/files.py\u001b[0m in \u001b[0;36m__init__\u001b[0;34m(self, name, mode, driver, libver, userblock_size, swmr, rdcc_nslots, rdcc_nbytes, rdcc_w0, track_order, **kwds)\u001b[0m\n\u001b[1;32m    406\u001b[0m                 fid = make_fid(name, mode, userblock_size,\n\u001b[1;32m    407\u001b[0m                                \u001b[0mfapl\u001b[0m\u001b[0;34m,\u001b[0m \u001b[0mfcpl\u001b[0m\u001b[0;34m=\u001b[0m\u001b[0mmake_fcpl\u001b[0m\u001b[0;34m(\u001b[0m\u001b[0mtrack_order\u001b[0m\u001b[0;34m=\u001b[0m\u001b[0mtrack_order\u001b[0m\u001b[0;34m)\u001b[0m\u001b[0;34m,\u001b[0m\u001b[0;34m\u001b[0m\u001b[0;34m\u001b[0m\u001b[0m\n\u001b[0;32m--> 408\u001b[0;31m                                swmr=swmr)\n\u001b[0m\u001b[1;32m    409\u001b[0m \u001b[0;34m\u001b[0m\u001b[0m\n\u001b[1;32m    410\u001b[0m             \u001b[0;32mif\u001b[0m \u001b[0misinstance\u001b[0m\u001b[0;34m(\u001b[0m\u001b[0mlibver\u001b[0m\u001b[0;34m,\u001b[0m \u001b[0mtuple\u001b[0m\u001b[0;34m)\u001b[0m\u001b[0;34m:\u001b[0m\u001b[0;34m\u001b[0m\u001b[0;34m\u001b[0m\u001b[0m\n",
      "\u001b[0;32m~/PROJECTS/sectioning_Ehsan/venv/lib/python3.6/site-packages/h5py/_hl/files.py\u001b[0m in \u001b[0;36mmake_fid\u001b[0;34m(name, mode, userblock_size, fapl, fcpl, swmr)\u001b[0m\n\u001b[1;32m    177\u001b[0m         \u001b[0mfid\u001b[0m \u001b[0;34m=\u001b[0m \u001b[0mh5f\u001b[0m\u001b[0;34m.\u001b[0m\u001b[0mcreate\u001b[0m\u001b[0;34m(\u001b[0m\u001b[0mname\u001b[0m\u001b[0;34m,\u001b[0m \u001b[0mh5f\u001b[0m\u001b[0;34m.\u001b[0m\u001b[0mACC_EXCL\u001b[0m\u001b[0;34m,\u001b[0m \u001b[0mfapl\u001b[0m\u001b[0;34m=\u001b[0m\u001b[0mfapl\u001b[0m\u001b[0;34m,\u001b[0m \u001b[0mfcpl\u001b[0m\u001b[0;34m=\u001b[0m\u001b[0mfcpl\u001b[0m\u001b[0;34m)\u001b[0m\u001b[0;34m\u001b[0m\u001b[0;34m\u001b[0m\u001b[0m\n\u001b[1;32m    178\u001b[0m     \u001b[0;32melif\u001b[0m \u001b[0mmode\u001b[0m \u001b[0;34m==\u001b[0m \u001b[0;34m'w'\u001b[0m\u001b[0;34m:\u001b[0m\u001b[0;34m\u001b[0m\u001b[0;34m\u001b[0m\u001b[0m\n\u001b[0;32m--> 179\u001b[0;31m         \u001b[0mfid\u001b[0m \u001b[0;34m=\u001b[0m \u001b[0mh5f\u001b[0m\u001b[0;34m.\u001b[0m\u001b[0mcreate\u001b[0m\u001b[0;34m(\u001b[0m\u001b[0mname\u001b[0m\u001b[0;34m,\u001b[0m \u001b[0mh5f\u001b[0m\u001b[0;34m.\u001b[0m\u001b[0mACC_TRUNC\u001b[0m\u001b[0;34m,\u001b[0m \u001b[0mfapl\u001b[0m\u001b[0;34m=\u001b[0m\u001b[0mfapl\u001b[0m\u001b[0;34m,\u001b[0m \u001b[0mfcpl\u001b[0m\u001b[0;34m=\u001b[0m\u001b[0mfcpl\u001b[0m\u001b[0;34m)\u001b[0m\u001b[0;34m\u001b[0m\u001b[0;34m\u001b[0m\u001b[0m\n\u001b[0m\u001b[1;32m    180\u001b[0m     \u001b[0;32melif\u001b[0m \u001b[0mmode\u001b[0m \u001b[0;34m==\u001b[0m \u001b[0;34m'a'\u001b[0m\u001b[0;34m:\u001b[0m\u001b[0;34m\u001b[0m\u001b[0;34m\u001b[0m\u001b[0m\n\u001b[1;32m    181\u001b[0m         \u001b[0;31m# Open in append mode (read/write).\u001b[0m\u001b[0;34m\u001b[0m\u001b[0;34m\u001b[0m\u001b[0;34m\u001b[0m\u001b[0m\n",
      "\u001b[0;32mh5py/_objects.pyx\u001b[0m in \u001b[0;36mh5py._objects.with_phil.wrapper\u001b[0;34m()\u001b[0m\n",
      "\u001b[0;32mh5py/_objects.pyx\u001b[0m in \u001b[0;36mh5py._objects.with_phil.wrapper\u001b[0;34m()\u001b[0m\n",
      "\u001b[0;32mh5py/h5f.pyx\u001b[0m in \u001b[0;36mh5py.h5f.create\u001b[0;34m()\u001b[0m\n",
      "\u001b[0;31mOSError\u001b[0m: Unable to create file (unable to open file: name = './writing/sliced_dataset.h5', errno = 2, error message = 'No such file or directory', flags = 13, o_flags = 242)"
     ],
     "ename": "OSError",
     "evalue": "Unable to create file (unable to open file: name = './writing/sliced_dataset.h5', errno = 2, error message = 'No such file or directory', flags = 13, o_flags = 242)",
     "output_type": "error"
    }
   ],
   "source": [
    "# Iterating over names of the files (*.h5) in the reading_directory\n",
    "\n",
    "writing_data = h5py.File(writing_directory + 'sliced_dataset.h5', 'w')\n",
    "k = 1\n",
    "for names in name_files:\n",
    "\n",
    "    writing_group = writing_data.create_group('file_'+str(k-1))\n",
    "    h5File = h5py.File(reading_directory + names, 'r')\n",
    "    \n",
    "    keys_list = list(h5File.keys())\n",
    "    time_interval = np.arange(8, len(keys_list), 2)\n",
    "\n",
    "    saving_frames = np.zeros((num_sections*4, height*height))\n",
    "    # Iterating over the time stamps\n",
    "    for timestep in tqdm(time_interval): \n",
    "        # Reading the data set related to the current timestep in the loop\n",
    "        data_set = h5File[keys_list[timestep]] \n",
    "        \n",
    "        # Extracting 8520321 (257x257x129) nodes with 3 (xyz) coordinates from the read_data_set \n",
    "        n_coord = np.array(data_set.get('node_coords')) \n",
    "        \n",
    "        # Extracting values of phi on 8520321 (257x257x129) nodes\n",
    "        phi_values = np.array(data_set.get('node_data').get('phi')) \n",
    "        \n",
    "        # Concatenation of n_coord and phi_values in a pandas dataframe and name the columns properly\n",
    "        data_frame = pd.concat([pd.DataFrame(n_coord,columns=['X','Y','Z']),\n",
    "                        pd.DataFrame(phi_values,columns=['phi'])], \n",
    "                        axis=1, sort=False)\n",
    "        \n",
    "        # Calling slicing function to group by the dataset based on the X and Y coordinates \n",
    "        data_sliced = slicing(data_frame)\n",
    "        slices_x = data_sliced[0]\n",
    "        slices_y = data_sliced[1]\n",
    "        \n",
    "        # Dividing the images obtained from the slicing functions in half by using indices saved in patch_1 and \n",
    "        # patch_2 arrays \n",
    "        for j, i in enumerate(range(0, num_sections*4, 4)):\n",
    "            saving_frames[i] = slices_x[sec_location[j]][:,3][patch_1]\n",
    "            saving_frames[i+1] = slices_x[sec_location[j]][:,3][patch_2]\n",
    "            saving_frames[i+2] = slices_y[sec_location[j]][:,3][patch_1]    \n",
    "            saving_frames[i+3] = slices_y[sec_location[j]][:,3][patch_2]  \n",
    "            \n",
    "        # Saving the saving_frames in which one can find all the desired 129x129 size images. saving_frames size is: \n",
    "        # (numb_sections*4, height*height)\n",
    "        writing_group.create_dataset(str(timestep), data=saving_frames)\n",
    "        \n",
    "    print('Slicing files: {} out of {} ---> Done'.format(k, len(name_files)))\n",
    "    k += 1\n",
    "\n",
    "    h5File.close()\n",
    "writing_data.close()"
   ]
  },
  {
   "cell_type": "markdown",
   "metadata": {},
   "source": [
    "### Visualization\n",
    "Since we solve the CH equation on a 257x257x129 grid in 3-D pixel domain, every image obtained after slicing and patching is 129x129 pixels in resolution. Each image is grayscale, with the value of each pixel ranging between 0 to 1. Here four 2-D morphologies are being visualized. "
   ]
  },
  {
   "cell_type": "code",
   "execution_count": 11,
   "metadata": {
    "scrolled": true,
    "pycharm": {
     "is_executing": false
    }
   },
   "outputs": [
    {
     "traceback": [
      "\u001b[0;31m---------------------------------------------------------------------------\u001b[0m",
      "\u001b[0;31mNameError\u001b[0m                                 Traceback (most recent call last)",
      "\u001b[0;32m<ipython-input-11-b1dcbae0e284>\u001b[0m in \u001b[0;36m<module>\u001b[0;34m\u001b[0m\n\u001b[1;32m      3\u001b[0m \u001b[0;32mfor\u001b[0m \u001b[0mi\u001b[0m \u001b[0;32min\u001b[0m \u001b[0mrange\u001b[0m\u001b[0;34m(\u001b[0m\u001b[0;36m2\u001b[0m\u001b[0;34m)\u001b[0m\u001b[0;34m:\u001b[0m\u001b[0;34m\u001b[0m\u001b[0;34m\u001b[0m\u001b[0m\n\u001b[1;32m      4\u001b[0m     \u001b[0;32mfor\u001b[0m \u001b[0mj\u001b[0m \u001b[0;32min\u001b[0m \u001b[0mrange\u001b[0m\u001b[0;34m(\u001b[0m\u001b[0;36m2\u001b[0m\u001b[0;34m)\u001b[0m\u001b[0;34m:\u001b[0m\u001b[0;34m\u001b[0m\u001b[0;34m\u001b[0m\u001b[0m\n\u001b[0;32m----> 5\u001b[0;31m         \u001b[0maxes\u001b[0m\u001b[0;34m[\u001b[0m\u001b[0mi\u001b[0m\u001b[0;34m,\u001b[0m \u001b[0mj\u001b[0m\u001b[0;34m]\u001b[0m\u001b[0;34m.\u001b[0m\u001b[0mimshow\u001b[0m\u001b[0;34m(\u001b[0m\u001b[0msaving_frames\u001b[0m\u001b[0;34m[\u001b[0m\u001b[0mk\u001b[0m\u001b[0;34m]\u001b[0m\u001b[0;34m.\u001b[0m\u001b[0mreshape\u001b[0m\u001b[0;34m(\u001b[0m\u001b[0;36m129\u001b[0m\u001b[0;34m,\u001b[0m\u001b[0;36m129\u001b[0m\u001b[0;34m)\u001b[0m\u001b[0;34m,\u001b[0m \u001b[0mextent\u001b[0m\u001b[0;34m=\u001b[0m\u001b[0;34m[\u001b[0m\u001b[0;36m0\u001b[0m\u001b[0;34m,\u001b[0m \u001b[0;36m2\u001b[0m\u001b[0;34m,\u001b[0m \u001b[0;36m0\u001b[0m\u001b[0;34m,\u001b[0m \u001b[0;36m2\u001b[0m\u001b[0;34m]\u001b[0m\u001b[0;34m,\u001b[0m \u001b[0morigin\u001b[0m\u001b[0;34m=\u001b[0m\u001b[0;34m'lower'\u001b[0m\u001b[0;34m,\u001b[0m \u001b[0mcmap\u001b[0m\u001b[0;34m=\u001b[0m\u001b[0;34m'jet'\u001b[0m\u001b[0;34m)\u001b[0m\u001b[0;34m\u001b[0m\u001b[0;34m\u001b[0m\u001b[0m\n\u001b[0m\u001b[1;32m      6\u001b[0m         \u001b[0maxes\u001b[0m\u001b[0;34m[\u001b[0m\u001b[0mi\u001b[0m\u001b[0;34m,\u001b[0m \u001b[0mj\u001b[0m\u001b[0;34m]\u001b[0m\u001b[0;34m.\u001b[0m\u001b[0mset_title\u001b[0m\u001b[0;34m(\u001b[0m\u001b[0;34m\"patch_\"\u001b[0m \u001b[0;34m+\u001b[0m \u001b[0mstr\u001b[0m\u001b[0;34m(\u001b[0m\u001b[0mj\u001b[0m\u001b[0;34m+\u001b[0m\u001b[0;36m1\u001b[0m\u001b[0;34m)\u001b[0m\u001b[0;34m)\u001b[0m\u001b[0;34m\u001b[0m\u001b[0;34m\u001b[0m\u001b[0m\n\u001b[1;32m      7\u001b[0m         \u001b[0maxes\u001b[0m\u001b[0;34m[\u001b[0m\u001b[0mi\u001b[0m\u001b[0;34m,\u001b[0m \u001b[0mj\u001b[0m\u001b[0;34m]\u001b[0m\u001b[0;34m.\u001b[0m\u001b[0maxis\u001b[0m\u001b[0;34m(\u001b[0m\u001b[0;34m'off'\u001b[0m\u001b[0;34m)\u001b[0m\u001b[0;34m\u001b[0m\u001b[0;34m\u001b[0m\u001b[0m\n",
      "\u001b[0;31mNameError\u001b[0m: name 'saving_frames' is not defined"
     ],
     "ename": "NameError",
     "evalue": "name 'saving_frames' is not defined",
     "output_type": "error"
    },
    {
     "data": {
      "text/plain": "<Figure size 432x288 with 4 Axes>",
      "image/png": "[encoded data removed]"
     },
     "metadata": {
      "needs_background": "light"
     },
     "output_type": "display_data"
    }
   ],
   "source": [
    "fig, axes = plt.subplots(2, 2)\n",
    "k = 0\n",
    "for i in range(2):\n",
    "    for j in range(2):\n",
    "        axes[i, j].imshow(saving_frames[k].reshape(129,129), extent=[0, 2, 0, 2], origin='lower', cmap='jet')\n",
    "        axes[i, j].set_title(\"patch_\" + str(j+1))\n",
    "        axes[i, j].axis('off')\n",
    "        k += 1\n",
    "plt.show()"
   ]
  }
 ],
 "metadata": {
  "kernelspec": {
   "display_name": "Python 3",
   "language": "python",
   "name": "python3"
  },
  "language_info": {
   "codemirror_mode": {
    "name": "ipython",
    "version": 3
   },
   "file_extension": ".py",
   "mimetype": "text/x-python",
   "name": "python",
   "nbconvert_exporter": "python",
   "pygments_lexer": "ipython3",
   "version": "3.7.4"
  },
  "pycharm": {
   "stem_cell": {
    "cell_type": "raw",
    "source": [],
    "metadata": {
     "collapsed": false
    }
   }
  }
 },
 "nbformat": 4,
 "nbformat_minor": 2
}